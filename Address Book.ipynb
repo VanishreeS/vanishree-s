{
  "nbformat": 4,
  "nbformat_minor": 0,
  "metadata": {
    "colab": {
      "provenance": [],
      "authorship_tag": "ABX9TyMKugt9O4OLCwXLPekEK8/5",
      "include_colab_link": true
    },
    "kernelspec": {
      "name": "python3",
      "display_name": "Python 3"
    },
    "language_info": {
      "name": "python"
    }
  },
  "cells": [
    {
      "cell_type": "markdown",
      "metadata": {
        "id": "view-in-github",
        "colab_type": "text"
      },
      "source": [
        "<a href=\"https://colab.research.google.com/github/VanishreeS/vanishree-s/blob/master/Address%20Book.ipynb\" target=\"_parent\"><img src=\"https://colab.research.google.com/assets/colab-badge.svg\" alt=\"Open In Colab\"/></a>"
      ]
    },
    {
      "cell_type": "markdown",
      "source": [
        "store and manage a list of contacts"
      ],
      "metadata": {
        "id": "fJMXsf46VwNT"
      }
    },
    {
      "cell_type": "code",
      "source": [
        "# Initialize an empty dictionary to store contacts\n",
        "contact_book = {}"
      ],
      "metadata": {
        "id": "wQMSQFyAV7bY"
      },
      "execution_count": 9,
      "outputs": []
    },
    {
      "cell_type": "code",
      "source": [
        "# Function to add a new contact\n",
        "def AddContact(name, phone):\n",
        "    contact_book[name] = phone\n",
        "    print(\"Contact added.\")\n"
      ],
      "metadata": {
        "id": "V_bBa6dkbHI_"
      },
      "execution_count": 10,
      "outputs": []
    },
    {
      "cell_type": "code",
      "source": [
        "# Function to view all contacts\n",
        "def ViewContact():\n",
        "    if not contact_book:\n",
        "        print(\"Contact book is empty.\")\n",
        "    else:\n",
        "        print(\"\\n--- Contacts ---\")\n",
        "        for name, phone in contact_book.items():\n",
        "            print(f\"Name: {name}, Phone: {phone}\")"
      ],
      "metadata": {
        "id": "YisY8AXTbIFq"
      },
      "execution_count": 11,
      "outputs": []
    },
    {
      "cell_type": "code",
      "source": [
        "# Function to delete a contact\n",
        "def DeleteContact(name):\n",
        "    if name in contact_book:\n",
        "        del contact_book[name]\n",
        "        print(f\"Contact {name} deleted.\")\n",
        "    else:\n",
        "        print(f\"Contact {name} not found.\")"
      ],
      "metadata": {
        "id": "1fCsbrvvbIeJ"
      },
      "execution_count": 12,
      "outputs": []
    },
    {
      "cell_type": "code",
      "source": [
        "# Function to search for a contact\n",
        "def SearchContact(name):\n",
        "    if name in contact_book:\n",
        "        phone = contact_book[name]\n",
        "        print(f\"Contact found:\\nName: {name}, Phone: {phone}\")\n",
        "    else:\n",
        "        print(f\"Contact {name} not found.\")"
      ],
      "metadata": {
        "id": "OX3iDa5wbIgS"
      },
      "execution_count": 13,
      "outputs": []
    },
    {
      "cell_type": "code",
      "source": [
        "# Function to update for a contact\n",
        "def  UpdateContact(name, new_phone):\n",
        "    if name in contact_book:\n",
        "        contact_book[name] = new_phone\n",
        "        print(f\"Contact {name} updated.\")"
      ],
      "metadata": {
        "id": "bxMYVyMgc1KB"
      },
      "execution_count": 14,
      "outputs": []
    },
    {
      "cell_type": "code",
      "source": [
        "# Main program loop\n",
        "while True:\n",
        "    print(\"\\n--- Contact Book Menu ---\")\n",
        "    print(\"1. Add contact\")\n",
        "    print(\"2. View contacts\")\n",
        "    print(\"3. Delete contact\")\n",
        "    print(\"4. Search contact\")\n",
        "    print(\"5. Update contact\")\n",
        "    print(\"6. Exit\")\n",
        "\n",
        "    choice = input(\"Enter the choice: \")\n",
        "\n",
        "    if choice == \"1\":\n",
        "        name = input(\"Enter contact name: \")\n",
        "        phone = input(\"Enter contact phone number: \")\n",
        "        length= len(phone)\n",
        "        if(length!=10 or not phone.isdigit()):\n",
        "            print(\"Invalid phone number\")\n",
        "        else:\n",
        "          AddContact(name, phone)\n",
        "    elif choice == \"2\":\n",
        "        ViewContact()\n",
        "    elif choice == \"3\":\n",
        "        name = input(\"Enter name of contact to delete: \")\n",
        "        DeleteContact(name)\n",
        "    elif choice == \"4\":\n",
        "        name = input(\"Enter name to search for: \")\n",
        "        SearchContact(name)\n",
        "    elif choice == \"5\":\n",
        "        name = input(\"Enter name of contact to update:\")\n",
        "        new_phone = input(\"Enter new phone number:\")\n",
        "        UpdateContact(name, new_phone)\n",
        "    elif choice == \"6\":\n",
        "        print(\"Exiting contact book.\")\n",
        "        break\n",
        "    else:\n",
        "        print(\"Invalid choice. Please try again.\")"
      ],
      "metadata": {
        "colab": {
          "base_uri": "https://localhost:8080/"
        },
        "id": "In3YrjrLbIkG",
        "outputId": "ad9bbe1e-757d-449d-9a0e-bbb1b1fd2739"
      },
      "execution_count": null,
      "outputs": [
        {
          "output_type": "stream",
          "name": "stdout",
          "text": [
            "\n",
            "--- Contact Book Menu ---\n",
            "1. Add contact\n",
            "2. View contacts\n",
            "3. Delete contact\n",
            "4. Search contact\n",
            "5. Update contact\n",
            "6. Exit\n",
            "Enter the choice: 1\n",
            "Enter contact name: vaeen\n",
            "Enter contact phone number: 123456789i\n",
            "Invalid phone number\n",
            "\n",
            "--- Contact Book Menu ---\n",
            "1. Add contact\n",
            "2. View contacts\n",
            "3. Delete contact\n",
            "4. Search contact\n",
            "5. Update contact\n",
            "6. Exit\n"
          ]
        }
      ]
    }
  ]
}